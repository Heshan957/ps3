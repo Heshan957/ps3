{
 "cells": [
  {
   "cell_type": "code",
   "execution_count": 1,
   "id": "cd04bc98-af18-4fb1-ab6a-17c4a5abd99a",
   "metadata": {
    "tags": []
   },
   "outputs": [],
   "source": [
    "fhand = open('/blue/bsc4452/ph.liyanagedara/ps3/CO-OPS_8727520_wl.csv')"
   ]
  },
  {
   "cell_type": "code",
   "execution_count": 2,
   "id": "21db47f6-9496-4d92-8006-c90376110774",
   "metadata": {
    "tags": []
   },
   "outputs": [
    {
     "name": "stdout",
     "output_type": "stream",
     "text": [
      "['Liyanagedara_PH_Problem_set3.ipynb', 'README.md', 'CO-OPS_8727520_wl.csv', '.ipynb_checkpoints', 'CO-OPS__8729108__wl.csv', '.git', 'script.py']\n"
     ]
    }
   ],
   "source": [
    "import os\n",
    "print(os.listdir('/blue/bsc4452/ph.liyanagedara/ps3'))"
   ]
  },
  {
   "cell_type": "code",
   "execution_count": 4,
   "id": "5b21352d-8cb5-490f-8094-acc50c26bdcb",
   "metadata": {
    "tags": []
   },
   "outputs": [
    {
     "ename": "NameError",
     "evalue": "name 'largest' is not defined",
     "output_type": "error",
     "traceback": [
      "\u001b[0;31m---------------------------------------------------------------------------\u001b[0m",
      "\u001b[0;31mNameError\u001b[0m                                 Traceback (most recent call last)",
      "Cell \u001b[0;32mIn[4], line 38\u001b[0m\n\u001b[1;32m     35\u001b[0m             highest_time \u001b[38;5;241m=\u001b[39m time\n\u001b[1;32m     37\u001b[0m \u001b[38;5;66;03m# After the loop, print the largest water level and the corresponding date/time\u001b[39;00m\n\u001b[0;32m---> 38\u001b[0m \u001b[38;5;28;01mif\u001b[39;00m \u001b[43mlargest\u001b[49m \u001b[38;5;129;01mis\u001b[39;00m \u001b[38;5;129;01mnot\u001b[39;00m \u001b[38;5;28;01mNone\u001b[39;00m:\n\u001b[1;32m     39\u001b[0m     \u001b[38;5;28mprint\u001b[39m(\u001b[38;5;124mf\u001b[39m\u001b[38;5;124m'\u001b[39m\u001b[38;5;124mHighest water level: \u001b[39m\u001b[38;5;132;01m{\u001b[39;00mhighest_water_level\u001b[38;5;132;01m}\u001b[39;00m\u001b[38;5;124m observed on \u001b[39m\u001b[38;5;132;01m{\u001b[39;00mhighest_date\u001b[38;5;132;01m}\u001b[39;00m\u001b[38;5;124m at \u001b[39m\u001b[38;5;132;01m{\u001b[39;00mhighest_time\u001b[38;5;132;01m}\u001b[39;00m\u001b[38;5;124m'\u001b[39m)\n\u001b[1;32m     40\u001b[0m \u001b[38;5;28;01melse\u001b[39;00m:\n",
      "\u001b[0;31mNameError\u001b[0m: name 'largest' is not defined"
     ]
    }
   ],
   "source": [
    "# Question 1 - solution 1\n",
    "# Define the file path (update with your file path)\n",
    "file_path = '/blue/bsc4452/ph.liyanagedara/ps3/CO-OPS_8727520_wl.csv'\n",
    "\n",
    "# Initialize variables for tracking the highest water level and its date/time\n",
    "highest_water_level = None\n",
    "highest_date = None\n",
    "highest_time = None\n",
    "\n",
    "# Open the file and start reading it\n",
    "with open(file_path, 'r') as fhand:\n",
    "    # Skip the header row\n",
    "    header = fhand.readline()\n",
    "\n",
    "    # Loop through each line of the file\n",
    "    for line in fhand:\n",
    "        # Strip any leading/trailing whitespace and split the line by commas\n",
    "        data = line.strip().split(',')\n",
    "\n",
    "        # Extract date, time, and water level (assuming water level is in the 4th column)\n",
    "        date = data[0].strip('\"')  # Date is in the first column\n",
    "        time = data[1].strip('\"')  # Time is in the second column\n",
    "        water_level_str = data[3].strip('\"')  # Water level is in the fourth column\n",
    "\n",
    "        # Try converting the water level to a float, skip if conversion fails\n",
    "        try:\n",
    "            water_level = float(water_level_str)\n",
    "        except ValueError:\n",
    "            continue  # Skip if it's not a valid number\n",
    "\n",
    "        # Compare and find the largest water level\n",
    "        if highest_water_level is None or water_level > highest_water_level:\n",
    "            highest_water_level = water_level\n",
    "            highest_date = date\n",
    "            highest_time = time\n",
    "\n",
    "# After the loop, print the largest water level and the corresponding date/time\n",
    "if largest is not None:\n",
    "    print(f'Highest water level: {highest_water_level} observed on {highest_date} at {highest_time}')\n",
    "else:\n",
    "    print('No valid water level data found.')"
   ]
  },
  {
   "cell_type": "code",
   "execution_count": 1,
   "id": "5e6538ff-8cd5-457f-a112-70ebe24082fa",
   "metadata": {
    "tags": []
   },
   "outputs": [
    {
     "name": "stdout",
     "output_type": "stream",
     "text": [
      "Highest water level: 13.1 observed on 2024/09/27 at 04:42\n"
     ]
    }
   ],
   "source": [
    "# Question 1 - solution 2\n",
    "# Define the file path (update with your file path)\n",
    "file_path = '/blue/bsc4452/ph.liyanagedara/ps3/CO-OPS_8727520_wl.csv'\n",
    "\n",
    "# Initialize variables for tracking the highest water level and its date/time\n",
    "highest_water_level = None\n",
    "highest_date = None\n",
    "highest_time = None\n",
    "\n",
    "# Open the file\n",
    "fhand = open(file_path, 'r')\n",
    "\n",
    "# Skip the header row\n",
    "header = fhand.readline()\n",
    "\n",
    "# Loop through each line of the file\n",
    "for line in fhand:\n",
    "    # Strip any leading/trailing whitespace and split the line by commas\n",
    "    data = line.strip().split(',')\n",
    "    \n",
    "    # Extract date, time, and water level (assuming water level is in the 4th column)\n",
    "    date = data[0].strip('\"')  # Date is in the first column\n",
    "    time = data[1].strip('\"')  # Time is in the second column\n",
    "    water_level_str = data[3].strip('\"')  # Water level is in the fourth column\n",
    "\n",
    "    # Try converting the water level to a float, skip if conversion fails\n",
    "    try:\n",
    "        water_level = float(water_level_str)\n",
    "    except ValueError:\n",
    "        continue  # Skip if it's not a valid number\n",
    "\n",
    "    # Compare and find the largest water level\n",
    "    if highest_water_level is None or water_level > highest_water_level:\n",
    "        highest_water_level = water_level\n",
    "        highest_date = date\n",
    "        highest_time = time\n",
    "\n",
    "# After the loop, print the largest water level and the corresponding date/time\n",
    "if highest_water_level is not None:\n",
    "    print(f'Highest water level: {highest_water_level} observed on {highest_date} at {highest_time}')\n",
    "else:\n",
    "    print('No valid water level data found.')\n",
    "\n",
    "# Close the file\n",
    "fhand.close()"
   ]
  },
  {
   "cell_type": "code",
   "execution_count": 32,
   "id": "225134d3-c8dc-4893-9d20-f5e72fe1c79c",
   "metadata": {
    "tags": []
   },
   "outputs": [
    {
     "name": "stdout",
     "output_type": "stream",
     "text": [
      "Highest water level: 13.1 observed on 2024/09/27 at 04:42\n",
      "Lowest water level: 1.53 observed on 2024/09/27 at 23:00\n",
      "Average water level:  5.68\n"
     ]
    }
   ],
   "source": [
    "# Question 2\n",
    "# Define the file path (update with your file path)\n",
    "file_path = '/blue/bsc4452/ph.liyanagedara/ps3/CO-OPS_8727520_wl.csv'\n",
    "\n",
    "# Initialize variables for tracking water levels and their corresponding date/time\n",
    "highest_water_level = None\n",
    "lowest_water_level = None\n",
    "highest_date = None\n",
    "highest_time = None\n",
    "lowest_date = None\n",
    "lowest_time = None\n",
    "\n",
    "# Initialize a variable to calculate the average water level\n",
    "total_water_level = 0\n",
    "count = 0\n",
    "\n",
    "# Open the file\n",
    "fhand = open(file_path, 'r')\n",
    "\n",
    "# Skip the header row\n",
    "header = fhand.readline()\n",
    "\n",
    "# Loop through each line of the file\n",
    "for line in fhand:\n",
    "    # Strip any leading/trailing whitespace and split the line by commas\n",
    "    data = line.strip().split(',')\n",
    "    \n",
    "    # Extract date, time, and water level (assuming water level is in the 4th column)\n",
    "    date = data[0].strip('\"')  # Date is in the first column\n",
    "    time = data[1].strip('\"')  # Time is in the second column\n",
    "    water_level_str = data[3].strip('\"')  # Water level is in the fourth column\n",
    "\n",
    "    # Try converting the water level to a float, skip if conversion fails\n",
    "    try:\n",
    "        water_level = float(water_level_str)\n",
    "    except ValueError:\n",
    "        continue  # Skip if it's not a valid number\n",
    "\n",
    "    # Update highest water level\n",
    "    if highest_water_level is None or water_level > highest_water_level:\n",
    "        highest_water_level = water_level\n",
    "        highest_date = date\n",
    "        highest_time = time\n",
    "\n",
    "    # Update lowest water level\n",
    "    if lowest_water_level is None or water_level < lowest_water_level:\n",
    "        lowest_water_level = water_level\n",
    "        lowest_date = date\n",
    "        lowest_time = time\n",
    "\n",
    "    # Calculate total water level for average calculation\n",
    "    total_water_level += water_level\n",
    "    count += 1\n",
    "\n",
    "# Calculate average water level\n",
    "average_water_level = total_water_level / count if count > 0 else 0\n",
    "\n",
    "# Print results\n",
    "if highest_water_level is not None:\n",
    "    print(f'Highest water level: {highest_water_level} observed on {highest_date} at {highest_time}')\n",
    "else:\n",
    "    print('No valid water level data found for highest reading.')\n",
    "\n",
    "if lowest_water_level is not None:\n",
    "    print(f'Lowest water level: {lowest_water_level} observed on {lowest_date} at {lowest_time}')\n",
    "else:\n",
    "    print('No valid water level data found for lowest reading.')\n",
    "\n",
    "if count > 0:\n",
    "    print(f'Average water level: {average_water_level: .2f}')\n",
    "else:\n",
    "    print('No valid water level data found for average calculation.')\n",
    "\n",
    "# Close the file\n",
    "fhand.close()"
   ]
  },
  {
   "cell_type": "code",
   "execution_count": 36,
   "id": "892ece75-2b65-480a-9f01-d2c81c3dff9c",
   "metadata": {
    "tags": []
   },
   "outputs": [
    {
     "name": "stdout",
     "output_type": "stream",
     "text": [
      "Fastest rise in water level: 0.6099999999999994 ft observed on 2024/09/27 at 01:12\n"
     ]
    }
   ],
   "source": [
    "# QUestion 3\n",
    "# Define the file path (update with your file path)\n",
    "file_path = '/blue/bsc4452/ph.liyanagedara/ps3/CO-OPS_8727520_wl.csv'\n",
    "\n",
    "# Initialize variables for tracking the fastest rise\n",
    "fastest_rise = None\n",
    "fastest_rise_date = None\n",
    "fastest_rise_time = None\n",
    "\n",
    "# Open the file\n",
    "fhand = open(file_path, 'r')\n",
    "\n",
    "# Skip the header row\n",
    "header = fhand.readline()\n",
    "\n",
    "# Initialize previous water level and corresponding date/time\n",
    "previous_water_level = None\n",
    "previous_date = None\n",
    "previous_time = None\n",
    "\n",
    "# Loop through each line of the file\n",
    "for line in fhand:\n",
    "    # Strip any leading/trailing whitespace and split the line by commas\n",
    "    data = line.strip().split(',')\n",
    "    \n",
    "    # Extract date, time, and water level (assuming water level is in the 4th column)\n",
    "    date = data[0].strip('\"')  # Date is in the first column\n",
    "    time = data[1].strip('\"')  # Time is in the second column\n",
    "    water_level_str = data[3].strip('\"')  # Water level is in the fourth column\n",
    "\n",
    "    # Try converting the water level to a float, skip if conversion fails\n",
    "    try:\n",
    "        water_level = float(water_level_str)\n",
    "    except ValueError:\n",
    "        continue  # Skip if it's not a valid number\n",
    "\n",
    "    # Calculate the rise in water level if previous data is available\n",
    "    if previous_water_level is not None:\n",
    "        rise = water_level - previous_water_level\n",
    "\n",
    "        # Update fastest rise if the current rise is greater\n",
    "        if fastest_rise is None or rise > fastest_rise:\n",
    "            fastest_rise = rise\n",
    "            fastest_rise_date = date  # Update to current date\n",
    "            fastest_rise_time = time  # Update to current time\n",
    "\n",
    "    # Update previous values for the next iteration\n",
    "    previous_water_level = water_level\n",
    "    previous_date = date\n",
    "    previous_time = time\n",
    "\n",
    "# After the loop, print the results\n",
    "if fastest_rise is not None:\n",
    "    print(f'Fastest rise in water level: {fastest_rise} ft observed on {fastest_rise_date} at {fastest_rise_time}')\n",
    "else:\n",
    "    print('No valid water level data found to calculate the rise.')\n",
    "\n",
    "# Close the file\n",
    "fhand.close()\n"
   ]
  },
  {
   "cell_type": "code",
   "execution_count": 39,
   "id": "75fa2b9d-58ac-40e6-9e0e-950eceffe06a",
   "metadata": {
    "tags": []
   },
   "outputs": [
    {
     "ename": "SyntaxError",
     "evalue": "expected ':' (1233432868.py, line 26)",
     "output_type": "error",
     "traceback": [
      "\u001b[0;36m  Cell \u001b[0;32mIn[39], line 26\u001b[0;36m\u001b[0m\n\u001b[0;31m    if previous_water_level is None\u001b[0m\n\u001b[0m                                    ^\u001b[0m\n\u001b[0;31mSyntaxError\u001b[0m\u001b[0;31m:\u001b[0m expected ':'\n"
     ]
    }
   ],
   "source": [
    "# Question 5\n",
    "# Define the file path (update with your file path)\n",
    "file_path = '/blue/bsc4452/ph.liyanagedara/ps3/CO-OPS_8727520_wl.csv'\n",
    "\n",
    "# Open the file\n",
    "fhand = open(file_path, 'r')\n",
    "\n",
    "# Skip the header row\n",
    "header = fhand.readline()\n",
    "\n",
    "# Initialize variables for tracking previous water level and time\n",
    "previous_water_level = None\n",
    "previous_date = None\n",
    "previous_time = None\n",
    "\n",
    "# Loop through each line of the file\n",
    "for line in fhand:\n",
    "    # Strip any leading/trailing whitespace and split the line by commas\n",
    "    data = line.strip().split(',')\n",
    "    \n",
    "    # Extract date, time, and water level (assuming water level is in the 4th column)\n",
    "    date = data[0].strip('\"')  # Date is in the first column\n",
    "    time = data[1].strip('\"')  # Time is in the second column\n",
    "    water_level_str = data[3].strip('\"')  # Water level is in the fourth column\n",
    "\n",
    "    # Check for missing reading (assuming that we expect readings every 6 minutes)\n",
    "    if previous_water_level is None and previous_date == date and previous_time != time:\n",
    "        print(f'Warning: No reading received at time {previous_time} on {date}.')\n",
    "\n",
    "    # Try converting the water level to a float, skip if conversion fails\n",
    "    try:\n",
    "        water_level = float(water_level_str)\n",
    "    except ValueError:\n",
    "        continue  # Skip if it's not a valid number\n",
    "\n",
    "    # Check for the first warning condition: increase more than 0.25 ft\n",
    "    if previous_water_level is not None and (water_level - previous_water_level) > 0.25:\n",
    "        print(f'Warning: Water level increased by more than 0.25 ft from {previous_water_level} ft to {water_level} ft on {date} at {time}.')\n",
    "\n",
    "    # Check for the second warning condition: water level over 5.0 ft\n",
    "    if water_level > 5.0:\n",
    "        print(f'Warning: Water level exceeded 5.0 ft: {water_level} ft on {date} at {time}.')\n",
    "\n",
    "    # Update previous values for the next iteration\n",
    "    previous_water_level = water_level\n",
    "    previous_date = date\n",
    "    previous_time = time\n",
    "\n",
    "# Close the file\n",
    "fhand.close()"
   ]
  }
 ],
 "metadata": {
  "kernelspec": {
   "display_name": "UFRC Python-3.10",
   "language": "python",
   "name": "python3-3.10-ufrc"
  },
  "language_info": {
   "codemirror_mode": {
    "name": "ipython",
    "version": 3
   },
   "file_extension": ".py",
   "mimetype": "text/x-python",
   "name": "python",
   "nbconvert_exporter": "python",
   "pygments_lexer": "ipython3",
   "version": "3.10.8"
  }
 },
 "nbformat": 4,
 "nbformat_minor": 5
}
